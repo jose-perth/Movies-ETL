{
 "cells": [
  {
   "cell_type": "code",
   "execution_count": 1,
   "metadata": {},
   "outputs": [],
   "source": [
    "# Dependencies\n",
    "import json\n",
    "import pandas as pd\n",
    "import numpy as np"
   ]
  },
  {
   "cell_type": "code",
   "execution_count": 2,
   "metadata": {},
   "outputs": [],
   "source": [
    "# Import json file\n",
    "file_dir = \"./\"\n",
    "filename = \"Data/wikipedia-movies.json\"\n",
    "filepath = f'{file_dir}{filename}'"
   ]
  },
  {
   "cell_type": "code",
   "execution_count": 3,
   "metadata": {},
   "outputs": [],
   "source": [
    "# Load raw JSON file\n",
    "with open(filepath, mode='r') as file:\n",
    "    wiki_movies_raw = json.load(file)"
   ]
  },
  {
   "cell_type": "code",
   "execution_count": 4,
   "metadata": {},
   "outputs": [
    {
     "data": {
      "text/plain": [
       "[{'url': 'https://en.wikipedia.org/wiki/Milwaukee,_Minnesota',\n",
       "  'year': 2003,\n",
       "  'imdb_link': 'https://www.imdb.com/title/tt0285727/',\n",
       "  'title': 'Milwaukee, Minnesota',\n",
       "  'Directed by': 'Allan Mindel',\n",
       "  'Produced by': ['Michael J. Brody', 'Jeff Kirshbaum'],\n",
       "  'Written by': 'R.D. Murphy',\n",
       "  'Starring': ['Troy Garity', 'Alison Folland', 'Bruce Dern', 'Randy Quaid'],\n",
       "  'Music by': ['Michael Convertino', 'Bobby Muzingo'],\n",
       "  'Cinematography': 'Bernd Heinl',\n",
       "  'Edited by': 'David Rawlins',\n",
       "  'Release date': ['January 24, 2003',\n",
       "   '(',\n",
       "   '2003-01-24',\n",
       "   ')',\n",
       "   '(',\n",
       "   'Slamdance Film Festival',\n",
       "   ')'],\n",
       "  'Running time': '95 minutes',\n",
       "  'Country': 'United States',\n",
       "  'Language': 'English'},\n",
       " {'url': 'https://en.wikipedia.org/wiki/The_Missing_(2003_film)',\n",
       "  'year': 2003,\n",
       "  'imdb_link': 'https://www.imdb.com/title/tt0338188/',\n",
       "  'title': 'The Missing',\n",
       "  'Directed by': 'Ron Howard',\n",
       "  'Produced by': ['Brian Grazer', 'Ron Howard', 'Daniel Ostroff'],\n",
       "  'Written by': 'Ken Kaufman',\n",
       "  'Based on': ['The Last Ride', 'by', 'Thomas Eidson'],\n",
       "  'Starring': ['Tommy Lee Jones',\n",
       "   'Cate Blanchett',\n",
       "   'Evan Rachel Wood',\n",
       "   'Jenna Boyd',\n",
       "   'Aaron Eckhart',\n",
       "   'Val Kilmer'],\n",
       "  'Music by': 'James Horner',\n",
       "  'Cinematography': 'Salvatore Totino',\n",
       "  'Edited by': ['Daniel P. Hanley', 'Mike Hill'],\n",
       "  'Productioncompany ': ['Revolution Studios', 'Imagine Entertainment'],\n",
       "  'Distributed by': 'Columbia Pictures',\n",
       "  'Release date': ['November 26, 2003', '(', '2003-11-26', ')'],\n",
       "  'Running time': '137 minutes',\n",
       "  'Country': 'United States',\n",
       "  'Language': ['English', 'Spanish', 'Apache'],\n",
       "  'Budget': '$60 million',\n",
       "  'Box office': '$38.4 million'},\n",
       " {'url': 'https://en.wikipedia.org/wiki/Mona_Lisa_Smile',\n",
       "  'year': 2003,\n",
       "  'imdb_link': 'https://www.imdb.com/title/tt0304415/',\n",
       "  'title': 'Mona Lisa Smile',\n",
       "  'Directed by': 'Mike Newell',\n",
       "  'Produced by': ['Elaine Goldsmith-Thomas',\n",
       "   'Deborah Schindler',\n",
       "   'Paul Schiff'],\n",
       "  'Written by': ['Lawrence Konner', 'Mark Rosenthal'],\n",
       "  'Starring': ['Julia Roberts',\n",
       "   'Kirsten Dunst',\n",
       "   'Julia Stiles',\n",
       "   'Maggie Gyllenhaal',\n",
       "   'Topher Grace'],\n",
       "  'Music by': 'Rachel Portman',\n",
       "  'Cinematography': 'Anastas Michos',\n",
       "  'Edited by': 'Mick Audsley',\n",
       "  'Productioncompany ': ['Revolution Studios', 'Red Om Films Productions'],\n",
       "  'Distributed by': ['Columbia Pictures', 'Sony Pictures Releasing'],\n",
       "  'Release date': ['December 19, 2003', '(', '2003-12-19', ')'],\n",
       "  'Running time': '117 minutes',\n",
       "  'Country': 'United States',\n",
       "  'Language': ['English', 'Italian'],\n",
       "  'Budget': '$72.3 million',\n",
       "  'Box office': '$141.3 million'},\n",
       " {'url': 'https://en.wikipedia.org/wiki/Monster_(2003_film)',\n",
       "  'year': 2003,\n",
       "  'imdb_link': 'https://www.imdb.com/title/tt0340855/',\n",
       "  'title': 'Monster',\n",
       "  'Directed by': 'Patty Jenkins',\n",
       "  'Produced by': ['Charlize Theron',\n",
       "   'Mark Damon',\n",
       "   'Clark Peterson',\n",
       "   'Donald Kushner',\n",
       "   'Brad Wyman'],\n",
       "  'Written by': 'Patty Jenkins',\n",
       "  'Starring': ['Charlize Theron',\n",
       "   'Christina Ricci',\n",
       "   'Bruce Dern',\n",
       "   'Lee Tergesen'],\n",
       "  'Music by': 'BT',\n",
       "  'Cinematography': 'Steven Bernstein',\n",
       "  'Edited by': ['Arthur Coburn', 'Jane Kurson'],\n",
       "  'Productioncompanies ': ['Denver & Delilah Films', 'K/W Productions'],\n",
       "  'Distributed by': 'Newmarket Films',\n",
       "  'Release date': ['November 16, 2003',\n",
       "   '(',\n",
       "   '2003-11-16',\n",
       "   ')',\n",
       "   '(',\n",
       "   'AFI Film Fest',\n",
       "   ')',\n",
       "   'December 24, 2003',\n",
       "   '(',\n",
       "   '2003-12-24',\n",
       "   ')',\n",
       "   '(United States)',\n",
       "   'April 15, 2004',\n",
       "   '(',\n",
       "   '2004-04-15',\n",
       "   ')',\n",
       "   '(Germany)'],\n",
       "  'Running time': '109 minutes',\n",
       "  'Country': ['United States', 'Germany'],\n",
       "  'Language': 'English',\n",
       "  'Budget': '$8 million',\n",
       "  'Box office': '$60.4 million'},\n",
       " {'url': 'https://en.wikipedia.org/wiki/Monster_Man_(film)',\n",
       "  'year': 2003,\n",
       "  'imdb_link': 'https://www.imdb.com/title/tt0365513/',\n",
       "  'title': 'Monster Man',\n",
       "  'Directed by': 'Michael Davis',\n",
       "  'Produced by': 'Larry Rattner',\n",
       "  'Written by': 'Michael Davis',\n",
       "  'Starring': ['Eric Jungmann',\n",
       "   'Justin Urich',\n",
       "   'Aimee Brooks',\n",
       "   'Michael Bailey Smith'],\n",
       "  'Music by': 'John Coda',\n",
       "  'Cinematography': 'Matthew Irving',\n",
       "  'Edited by': 'Kevin D. Ross',\n",
       "  'Productioncompany ': 'Dream Entertainment',\n",
       "  'Distributed by': 'Lions Gate Films',\n",
       "  'Release date': ['July 30, 2003',\n",
       "   '(',\n",
       "   '2003-07-30',\n",
       "   ')',\n",
       "   '(München Fantasy Filmfest)',\n",
       "   'February 13, 2004',\n",
       "   '(',\n",
       "   '2004-02-13',\n",
       "   ')'],\n",
       "  'Running time': '88 minutes',\n",
       "  'Country': 'United States',\n",
       "  'Language': 'English'}]"
      ]
     },
     "execution_count": 4,
     "metadata": {},
     "output_type": "execute_result"
    }
   ],
   "source": [
    "# Some checks\n",
    "len(wiki_movies_raw)\n",
    "wiki_movies_raw[:5]\n",
    "wiki_movies_raw[-5:]\n",
    "wiki_movies_raw[3500:3505]"
   ]
  },
  {
   "cell_type": "code",
   "execution_count": null,
   "metadata": {
    "scrolled": true
   },
   "outputs": [],
   "source": [
    "kaggle_metadata = pd.read_csv(f'{file_dir}Data/movies_metadata.csv', low_memory=False)\n",
    "#kaggle_metadata.info()\n",
    "kaggle_metadata.columns.to_list()\n"
   ]
  },
  {
   "cell_type": "code",
   "execution_count": null,
   "metadata": {},
   "outputs": [],
   "source": [
    "ratings = pd.read_csv(f'{file_dir}Data/ratings.csv')\n",
    "ratings.info()"
   ]
  },
  {
   "cell_type": "code",
   "execution_count": 5,
   "metadata": {},
   "outputs": [
    {
     "data": {
      "text/plain": [
       "75"
      ]
     },
     "execution_count": 5,
     "metadata": {},
     "output_type": "execute_result"
    }
   ],
   "source": [
    "# Step 1.  Module 8.3.3 -- filter only movies with imdb ratings\n",
    "wiki_movies = [movie for movie in wiki_movies_raw\n",
    "                if ('Director' in movie or 'Directed by' in movie)\n",
    "                      and 'imdb_link' in movie\n",
    "                      and 'No. of episodes' not in movie]\n",
    "wiki_movies_df = pd.DataFrame(wiki_movies)\n",
    "wiki_movies_df.head()\n",
    "len(wiki_movies_df.columns.tolist())"
   ]
  },
  {
   "cell_type": "code",
   "execution_count": 6,
   "metadata": {
    "scrolled": true
   },
   "outputs": [
    {
     "data": {
      "text/plain": [
       "['Adaptation by',\n",
       " 'Also known as',\n",
       " 'Animation by',\n",
       " 'Arabic',\n",
       " 'Audio format',\n",
       " 'Based on',\n",
       " 'Box office',\n",
       " 'Budget',\n",
       " 'Cantonese',\n",
       " 'Chinese',\n",
       " 'Cinematography',\n",
       " 'Color process',\n",
       " 'Composer(s)',\n",
       " 'Country',\n",
       " 'Country of origin',\n",
       " 'Created by',\n",
       " 'Directed by',\n",
       " 'Director',\n",
       " 'Distributed by',\n",
       " 'Distributor',\n",
       " 'Edited by',\n",
       " 'Editor(s)',\n",
       " 'Executive producer(s)',\n",
       " 'Followed by',\n",
       " 'French',\n",
       " 'Genre',\n",
       " 'Hangul',\n",
       " 'Hebrew',\n",
       " 'Hepburn',\n",
       " 'Japanese',\n",
       " 'Label',\n",
       " 'Language',\n",
       " 'Length',\n",
       " 'Literally',\n",
       " 'Mandarin',\n",
       " 'McCune–Reischauer',\n",
       " 'Music by',\n",
       " 'Narrated by',\n",
       " 'Original language(s)',\n",
       " 'Original network',\n",
       " 'Original release',\n",
       " 'Original title',\n",
       " 'Picture format',\n",
       " 'Polish',\n",
       " 'Preceded by',\n",
       " 'Produced by',\n",
       " 'Producer',\n",
       " 'Producer(s)',\n",
       " 'Production company(s)',\n",
       " 'Production location(s)',\n",
       " 'Productioncompanies ',\n",
       " 'Productioncompany ',\n",
       " 'Recorded',\n",
       " 'Release date',\n",
       " 'Released',\n",
       " 'Revised Romanization',\n",
       " 'Romanized',\n",
       " 'Running time',\n",
       " 'Russian',\n",
       " 'Screen story by',\n",
       " 'Screenplay by',\n",
       " 'Simplified',\n",
       " 'Starring',\n",
       " 'Story by',\n",
       " 'Suggested by',\n",
       " 'Theme music composer',\n",
       " 'Traditional',\n",
       " 'Venue',\n",
       " 'Voices of',\n",
       " 'Written by',\n",
       " 'Yiddish',\n",
       " 'imdb_link',\n",
       " 'title',\n",
       " 'url',\n",
       " 'year']"
      ]
     },
     "execution_count": 6,
     "metadata": {},
     "output_type": "execute_result"
    }
   ],
   "source": [
    "#wiki_movies_df = pd.DataFrame(wiki_movies_raw)\n",
    "sorted(wiki_movies_df.columns.tolist())"
   ]
  },
  {
   "cell_type": "code",
   "execution_count": null,
   "metadata": {},
   "outputs": [],
   "source": [
    "wiki_movies_df[wiki_movies_df['Revised Romanization'].notnull()]['Revised Romanization']"
   ]
  },
  {
   "cell_type": "code",
   "execution_count": 31,
   "metadata": {},
   "outputs": [],
   "source": [
    "# Function to clean each movie\n",
    "def clean_movie(movie):\n",
    "    movie = dict(movie)  # Create a non-destructive copy\n",
    "    \n",
    "    # Consolidate alternative names\n",
    "    alt_titles = {}\n",
    "    title_keys = ['Also known as','Arabic', 'Cantonese', 'Chinese', 'French', 'Hangul', 'Hebrew', 'Hepburn', 'Japanese', 'Literally',\n",
    "                  'Mandarin', 'McCune–Reischauer', 'Original title', 'Polish', 'Revised Romanization', 'Romanized',\n",
    "                  'Russian', 'Simplified', 'Traditional', 'Yiddish']\n",
    "    for key in title_keys:\n",
    "        if key in movie:\n",
    "            alt_titles[key]=movie[key]\n",
    "            movie.pop(key)\n",
    "    if len(alt_titles)>0:\n",
    "        movie['alt_titles']=alt_titles\n",
    "    \n",
    "    # Used to consolidate/change columns\n",
    "    def change_column_name(old_name, new_name):\n",
    "        if old_name in movie:\n",
    "            movie[new_name] = movie.pop(old_name)\n",
    "            \n",
    "    change_column_name('Directed by','Director')\n",
    "    change_column_name('Adaptation by','Writer(s)')\n",
    "    change_column_name('Country of origin','Country')\n",
    "    change_column_name('Distributed by','Distributor')\n",
    "    change_column_name('Edited by','Editor(s)')\n",
    "    change_column_name('Length', 'Running time')\n",
    "    change_column_name('Original release', 'Release date')\n",
    "    change_column_name('Music by', 'Composer(s)')\n",
    "    change_column_name('Produced by', 'Producer(s)')\n",
    "    change_column_name('Producer', 'Producer(s)')\n",
    "    change_column_name('Productioncompanies ', 'Production company(s)')\n",
    "    change_column_name('Productioncompany ', 'Production company(s)')\n",
    "    change_column_name('Released', 'Release Date')\n",
    "    change_column_name('Release Date', 'Release date')\n",
    "    change_column_name('Screen story by', 'Writer(s)')\n",
    "    change_column_name('Screenplay by', 'Writer(s)')\n",
    "    change_column_name('Story by', 'Writer(s)')\n",
    "    change_column_name('Theme music composer', 'Composer(s)')\n",
    "    change_column_name('Written by', 'Writer(s)')\n",
    "    \n",
    "    return movie"
   ]
  },
  {
   "cell_type": "code",
   "execution_count": null,
   "metadata": {},
   "outputs": [],
   "source": [
    "wiki_movies_df[wiki_movies_df['Arabic'].notnull()]"
   ]
  },
  {
   "cell_type": "code",
   "execution_count": 32,
   "metadata": {},
   "outputs": [
    {
     "data": {
      "text/plain": [
       "['Animation by',\n",
       " 'Audio format',\n",
       " 'Based on',\n",
       " 'Box office',\n",
       " 'Budget',\n",
       " 'Cinematography',\n",
       " 'Color process',\n",
       " 'Composer(s)',\n",
       " 'Country',\n",
       " 'Created by',\n",
       " 'Director',\n",
       " 'Distributor',\n",
       " 'Editor(s)',\n",
       " 'Executive producer(s)',\n",
       " 'Followed by',\n",
       " 'Genre',\n",
       " 'Label',\n",
       " 'Language',\n",
       " 'Narrated by',\n",
       " 'Original language(s)',\n",
       " 'Original network',\n",
       " 'Picture format',\n",
       " 'Preceded by',\n",
       " 'Producer(s)',\n",
       " 'Production company(s)',\n",
       " 'Production location(s)',\n",
       " 'Recorded',\n",
       " 'Release date',\n",
       " 'Running time',\n",
       " 'Starring',\n",
       " 'Suggested by',\n",
       " 'Venue',\n",
       " 'Voices of',\n",
       " 'Writer(s)',\n",
       " 'alt_titles',\n",
       " 'imdb_link',\n",
       " 'title',\n",
       " 'url',\n",
       " 'year']"
      ]
     },
     "execution_count": 32,
     "metadata": {},
     "output_type": "execute_result"
    }
   ],
   "source": [
    "clean_movies = [clean_movie(movie) for movie in wiki_movies]\n",
    "wiki_movies_df = pd.DataFrame(clean_movies)\n",
    "sorted(wiki_movies_df.columns.tolist())"
   ]
  },
  {
   "cell_type": "code",
   "execution_count": 29,
   "metadata": {},
   "outputs": [
    {
     "ename": "TypeError",
     "evalue": "unhashable type: 'list'",
     "output_type": "error",
     "traceback": [
      "\u001b[1;31m---------------------------------------------------------------------------\u001b[0m",
      "\u001b[1;31mTypeError\u001b[0m                                 Traceback (most recent call last)",
      "\u001b[1;32mpandas\\_libs\\hashtable_class_helper.pxi\u001b[0m in \u001b[0;36mpandas._libs.hashtable.PyObjectHashTable.map_locations\u001b[1;34m()\u001b[0m\n",
      "\u001b[1;31mTypeError\u001b[0m: unhashable type: 'list'"
     ]
    },
    {
     "name": "stderr",
     "output_type": "stream",
     "text": [
      "Exception ignored in: 'pandas._libs.index.IndexEngine._call_map_locations'\n",
      "Traceback (most recent call last):\n",
      "  File \"pandas\\_libs\\hashtable_class_helper.pxi\", line 1709, in pandas._libs.hashtable.PyObjectHashTable.map_locations\n",
      "TypeError: unhashable type: 'list'\n"
     ]
    },
    {
     "data": {
      "text/plain": [
       "90 minutes                                                                           270\n",
       "96 minutes                                                                           221\n",
       "95 minutes                                                                           220\n",
       "93 minutes                                                                           189\n",
       "98 minutes                                                                           188\n",
       "                                                                                    ... \n",
       "[93 minutes, (theatrical), [1]]                                                        1\n",
       "95 mins.                                                                               1\n",
       "12 minutes                                                                             1\n",
       "[84 minutes, 107 minutes (unrated version)]                                            1\n",
       "[150 minutes, [1], (2005 limited release), 136 minutes, [2], (2006 wide release)]      1\n",
       "Name: Running time, Length: 413, dtype: int64"
      ]
     },
     "execution_count": 29,
     "metadata": {},
     "output_type": "execute_result"
    }
   ],
   "source": [
    "x='Running time'\n",
    "#wiki_movies_df[x].loc[wiki_movies_df[x]].describe()\n",
    "wiki_movies_df[x].value_counts()"
   ]
  },
  {
   "cell_type": "code",
   "execution_count": null,
   "metadata": {},
   "outputs": [],
   "source": []
  },
  {
   "cell_type": "code",
   "execution_count": null,
   "metadata": {},
   "outputs": [],
   "source": []
  },
  {
   "cell_type": "code",
   "execution_count": null,
   "metadata": {},
   "outputs": [],
   "source": []
  }
 ],
 "metadata": {
  "kernelspec": {
   "display_name": "Python 3",
   "language": "python",
   "name": "python3"
  },
  "language_info": {
   "codemirror_mode": {
    "name": "ipython",
    "version": 3
   },
   "file_extension": ".py",
   "mimetype": "text/x-python",
   "name": "python",
   "nbconvert_exporter": "python",
   "pygments_lexer": "ipython3",
   "version": "3.7.9"
  }
 },
 "nbformat": 4,
 "nbformat_minor": 4
}
